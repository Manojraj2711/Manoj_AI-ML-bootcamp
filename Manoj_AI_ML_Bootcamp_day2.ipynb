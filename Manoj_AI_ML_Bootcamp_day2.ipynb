{
  "nbformat": 4,
  "nbformat_minor": 0,
  "metadata": {
    "colab": {
      "provenance": [],
      "authorship_tag": "ABX9TyNzNGtYE7gkFP2wQmBl1lAb",
      "include_colab_link": true
    },
    "kernelspec": {
      "name": "python3",
      "display_name": "Python 3"
    },
    "language_info": {
      "name": "python"
    }
  },
  "cells": [
    {
      "cell_type": "markdown",
      "metadata": {
        "id": "view-in-github",
        "colab_type": "text"
      },
      "source": [
        "<a href=\"https://colab.research.google.com/github/Manojraj2711/Manoj_AI-ML-bootcamp/blob/main/Manoj_AI_ML_Bootcamp_day2.ipynb\" target=\"_parent\"><img src=\"https://colab.research.google.com/assets/colab-badge.svg\" alt=\"Open In Colab\"/></a>"
      ]
    },
    {
      "cell_type": "code",
      "execution_count": null,
      "metadata": {
        "colab": {
          "base_uri": "https://localhost:8080/"
        },
        "id": "7jipu8_Flayc",
        "outputId": "a9dec165-c8a9-49d1-e9ff-d2ae15051c26"
      },
      "outputs": [
        {
          "output_type": "stream",
          "name": "stdout",
          "text": [
            "arithmetic operators\n",
            "5\n",
            "1\n",
            "6\n",
            "9\n",
            "1.5\n",
            "1\n",
            "1\n"
          ]
        }
      ],
      "source": [
        "# operators\n",
        "\n",
        "#arithmetic operators\n",
        "print(\"arithmetic operators\")\n",
        "a=3\n",
        "b=2\n",
        "\n",
        "print(a+b)\n",
        "print(a-b)\n",
        "print(a*b)\n",
        "print(a**b)\n",
        "print(a/b)\n",
        "print(a//b)\n",
        "print(a%b)\n",
        "\n",
        "\n"
      ]
    },
    {
      "cell_type": "code",
      "source": [
        "#comparison operators\n",
        "\n",
        "a==b\n",
        "a<<b\n",
        "a>>b\n",
        "a>=b\n",
        "a<=b\n",
        "a!=b\n"
      ],
      "metadata": {
        "id": "rdKsN6gTn1Ry"
      },
      "execution_count": null,
      "outputs": []
    },
    {
      "cell_type": "code",
      "source": [
        "#assignment operators\n",
        "a=10\n",
        "b=9\n",
        "\n",
        "c=a+b\n",
        "c-=a #=>c=c-a"
      ],
      "metadata": {
        "id": "IDTjRm9moP35"
      },
      "execution_count": null,
      "outputs": []
    },
    {
      "cell_type": "code",
      "source": [
        "#logical operators\n",
        "x=True\n",
        "y=False\n",
        "print(\"x and y is:\",x and y)\n",
        "print(\"x or y is\",x or y)\n",
        "print(\"x not y is\",not y)\n"
      ],
      "metadata": {
        "colab": {
          "base_uri": "https://localhost:8080/"
        },
        "id": "YcMXMU8QpLxq",
        "outputId": "58f9c8aa-d362-47da-98ee-0c6885e795ab"
      },
      "execution_count": null,
      "outputs": [
        {
          "output_type": "stream",
          "name": "stdout",
          "text": [
            "x and y is: False\n",
            "x or y is True\n",
            "x not y is True\n"
          ]
        }
      ]
    },
    {
      "cell_type": "code",
      "source": [
        "#bitwise operators\n",
        "a=6 # 0000 0110\n",
        "b=9 # 0000 1001\n",
        "\n",
        "print(a&b) #and\n",
        "print(a|b) #or\n",
        "print(~a) #not\n",
        "print(a^b) # XOR\n",
        "print(a>>2) #right shift\n",
        "print(a<<2) #left shift\n",
        "\n"
      ],
      "metadata": {
        "colab": {
          "base_uri": "https://localhost:8080/"
        },
        "id": "tWYOc_cQp4UP",
        "outputId": "77d0c383-eeeb-42db-dcd6-f6620f3578e5"
      },
      "execution_count": null,
      "outputs": [
        {
          "output_type": "stream",
          "name": "stdout",
          "text": [
            "0\n",
            "15\n",
            "-7\n",
            "15\n",
            "1\n",
            "24\n"
          ]
        }
      ]
    },
    {
      "cell_type": "code",
      "source": [
        "#membership operator\n",
        "x=\"hai guru\"\n",
        "print(\"u\" in x) # checks the letter in word X''\n"
      ],
      "metadata": {
        "colab": {
          "base_uri": "https://localhost:8080/"
        },
        "id": "AwbQnJdYtJSK",
        "outputId": "e13924f6-5af6-4359-cadf-021890d1f099"
      },
      "execution_count": null,
      "outputs": [
        {
          "output_type": "stream",
          "name": "stdout",
          "text": [
            "True\n"
          ]
        }
      ]
    },
    {
      "cell_type": "code",
      "source": [
        "#identity operators\n",
        "x1 = 3\n",
        "y1 = 3\n",
        "x2 = \"me\"\n",
        "y2 = \"me\"\n",
        "x3=[1,4,3]\n",
        "y3=[1,4,3]\n",
        "print(x1 is not y1)\n",
        "print(x2 is y2)\n",
        "print(x3 is y3)\n"
      ],
      "metadata": {
        "colab": {
          "base_uri": "https://localhost:8080/"
        },
        "id": "J_K9AJCstps9",
        "outputId": "81a437c8-c47a-44af-de86-6d03fa9648a2"
      },
      "execution_count": null,
      "outputs": [
        {
          "output_type": "stream",
          "name": "stdout",
          "text": [
            "False\n",
            "True\n",
            "False\n"
          ]
        }
      ]
    },
    {
      "cell_type": "code",
      "source": [
        "a=int(input(\"enter a number\"))\n",
        "print(a)\n",
        "\n",
        "b=input(\"enter a string\")\n",
        "print(b)"
      ],
      "metadata": {
        "colab": {
          "base_uri": "https://localhost:8080/"
        },
        "id": "F-RhjE0qwOm4",
        "outputId": "bac6bf74-1b37-47fa-b82c-4d13dbc035db"
      },
      "execution_count": null,
      "outputs": [
        {
          "output_type": "stream",
          "name": "stdout",
          "text": [
            "enter a number6\n",
            "6\n",
            "enter a string9s\n",
            "9s\n"
          ]
        }
      ]
    },
    {
      "cell_type": "code",
      "source": [
        "#strings\n",
        "\n",
        "str = \"manojraj\"\n",
        "\n",
        "#indexing\n",
        "print(str[1])\n",
        "print(str[0:7])\n",
        "print(str[-4:-1])\n",
        "\n",
        "#slicing\n",
        "print(str[0:8:3])\n",
        "\n",
        "#reverse a string\n",
        "print(str[::-1])\n",
        "\n",
        "#String methods\n",
        "my_str=\"I am a Student\"\n",
        "print(my_str.upper())\n",
        "print(my_str.lower())\n",
        "print(my_str.swapcase())\n",
        "\n",
        "#string operations\n"
      ],
      "metadata": {
        "colab": {
          "base_uri": "https://localhost:8080/"
        },
        "id": "r-DGaXVowt6a",
        "outputId": "42935037-5f78-4f44-80e1-3b1a99866570"
      },
      "execution_count": null,
      "outputs": [
        {
          "output_type": "stream",
          "name": "stdout",
          "text": [
            "a\n",
            "manojra\n",
            "jra\n",
            "moa\n",
            "jarjonam\n",
            "I AM A STUDENT\n",
            "i am a student\n",
            "i AM A sTUDENT\n"
          ]
        }
      ]
    },
    {
      "cell_type": "code",
      "source": [
        "#string formats\n",
        "\n",
        "name = \"Manoj\"\n",
        "Language = \"Python\"\n",
        "\n",
        "print(name,\"is learning\", Language, \"programming\")\n",
        "\n",
        "#format\n",
        "print(\"{} is learning {} programming\".format(name,Language))\n",
        "\n",
        "#placeholder '%'\n",
        "print(\"%s is learning %s programming\"%(name,Language))\n",
        "\n",
        "#rawstring 'f'\n",
        "print(f\"{name} is learning {Language} programming\")\n",
        "\n"
      ],
      "metadata": {
        "id": "pLd6iRDT1EjC",
        "colab": {
          "base_uri": "https://localhost:8080/"
        },
        "outputId": "571eee10-51f7-4a81-c0fd-cadf47a53644"
      },
      "execution_count": 3,
      "outputs": [
        {
          "output_type": "stream",
          "name": "stdout",
          "text": [
            "Manoj is learning Python programming\n",
            "Manoj is learning Python programming\n",
            "Manoj is learning Python programming\n",
            "Manoj is learning Python programming\n"
          ]
        }
      ]
    },
    {
      "cell_type": "code",
      "source": [
        "#lists\n",
        "my_list = [1,2,3,4]\n",
        "my_list1 = [1,\"hai\",\"2.0\",]\n",
        "my_list2 = [\"apple\",'banana','cherry']\n",
        "\n",
        "#indexing\n",
        "print(my_list[0])\n",
        "print(my_list1[-1])\n",
        "\n",
        "#slicing\n",
        "print(my_list1[0:4:2])\n",
        "\n",
        "#nested list\n",
        "N_list = [\"fruit\",my_list,my_list2]\n",
        "print(N_list[2])\n",
        "print(N_list[0][:6])\n",
        "\n",
        "#List methods\n",
        "my_list.append(5)\n",
        "print(my_list)\n",
        "\n",
        "l1=[5,3,19,12,42,4,2,5,24,24,77,8,57,46]\n",
        "print(l1.count(24))\n",
        "print(len(l1))\n",
        "print(l1[::-1])\n",
        "\n",
        "l1.reverse()\n",
        "print(l1)"
      ],
      "metadata": {
        "colab": {
          "base_uri": "https://localhost:8080/"
        },
        "id": "de_-twt5Mvsk",
        "outputId": "bfba58ae-01d7-4d6e-de97-021d0732e68d"
      },
      "execution_count": 9,
      "outputs": [
        {
          "output_type": "stream",
          "name": "stdout",
          "text": [
            "1\n",
            "2.0\n",
            "[1, '2.0']\n",
            "['apple', 'banana', 'cherry']\n",
            "fruit\n",
            "[1, 2, 3, 4, 5]\n",
            "2\n",
            "14\n",
            "[46, 57, 8, 77, 24, 24, 5, 2, 4, 42, 12, 19, 3, 5]\n",
            "[46, 57, 8, 77, 24, 24, 5, 2, 4, 42, 12, 19, 3, 5]\n"
          ]
        }
      ]
    }
  ]
}