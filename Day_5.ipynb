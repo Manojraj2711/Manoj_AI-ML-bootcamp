{
  "nbformat": 4,
  "nbformat_minor": 0,
  "metadata": {
    "colab": {
      "provenance": [],
      "authorship_tag": "ABX9TyNa5R56laWu/dWhr8Mh71UP",
      "include_colab_link": true
    },
    "kernelspec": {
      "name": "python3",
      "display_name": "Python 3"
    },
    "language_info": {
      "name": "python"
    }
  },
  "cells": [
    {
      "cell_type": "markdown",
      "metadata": {
        "id": "view-in-github",
        "colab_type": "text"
      },
      "source": [
        "<a href=\"https://colab.research.google.com/github/Manojraj2711/Manoj_AI-ML-bootcamp/blob/main/Day_5.ipynb\" target=\"_parent\"><img src=\"https://colab.research.google.com/assets/colab-badge.svg\" alt=\"Open In Colab\"/></a>"
      ]
    },
    {
      "cell_type": "code",
      "execution_count": 3,
      "metadata": {
        "colab": {
          "base_uri": "https://localhost:8080/"
        },
        "id": "3XGUjxmopQNZ",
        "outputId": "63ec4da4-b864-4a24-921d-9384eee08fbe"
      },
      "outputs": [
        {
          "output_type": "stream",
          "name": "stdout",
          "text": [
            "5\n",
            "8\n"
          ]
        }
      ],
      "source": [
        "#lambda function\n",
        "def inc(x):\n",
        "  x=x+1\n",
        "  return x\n",
        "\n",
        "print((lambda x:x+1)(4))\n",
        "\n",
        "inc(4)\n",
        "\n",
        "print((lambda x,y:x**y)(2,3))\n"
      ]
    },
    {
      "cell_type": "code",
      "source": [
        "list1 = [1,2,34,5,5]\n",
        "def fun(num):\n",
        "  return num+2\n",
        "res_list=list(map(inc,list1))\n",
        "print(res_list)\n",
        "\n",
        "print(list(map(lambda x:x+2,list1)))"
      ],
      "metadata": {
        "colab": {
          "base_uri": "https://localhost:8080/"
        },
        "id": "cgUuMcRK_x4E",
        "outputId": "0182fbe0-bb49-4e57-c9bd-91b379032ec3"
      },
      "execution_count": 4,
      "outputs": [
        {
          "output_type": "stream",
          "name": "stdout",
          "text": [
            "[2, 3, 35, 6, 6]\n",
            "[3, 4, 36, 7, 7]\n"
          ]
        }
      ]
    },
    {
      "cell_type": "code",
      "source": [
        "#mapping\n",
        "l1 = ['apple','banana','guava']\n",
        "print(list(map(lambda x:x.upper(),l1)))\n",
        "\n",
        "def eor(num):\n",
        "  if num%2==0:\n",
        "    return \"the number {} is even \".format(num)\n",
        "  else:\n",
        "    return \"the number {} is odd\".format(num)\n",
        "eor(15)\n",
        "\n",
        "l2=[1,2,3,4,5,6,7,8,9]\n",
        "list(map(eor,l2))"
      ],
      "metadata": {
        "colab": {
          "base_uri": "https://localhost:8080/"
        },
        "id": "CRMO8GXEBXlB",
        "outputId": "2190fe1e-7ef4-4d73-8eb9-e4d8f6ce0e09"
      },
      "execution_count": 16,
      "outputs": [
        {
          "output_type": "stream",
          "name": "stdout",
          "text": [
            "['APPLE', 'BANANA', 'GUAVA']\n"
          ]
        },
        {
          "output_type": "execute_result",
          "data": {
            "text/plain": [
              "['the number 1 is odd',\n",
              " 'the number 2 is even ',\n",
              " 'the number 3 is odd',\n",
              " 'the number 4 is even ',\n",
              " 'the number 5 is odd',\n",
              " 'the number 6 is even ',\n",
              " 'the number 7 is odd',\n",
              " 'the number 8 is even ',\n",
              " 'the number 9 is odd']"
            ]
          },
          "metadata": {},
          "execution_count": 16
        }
      ]
    },
    {
      "cell_type": "code",
      "source": [
        "#filter method\n",
        "def odd_num(n):\n",
        "  if n%2!=0:\n",
        "    return n\n",
        "my1=[1,2,6,46,76,69,7,109]\n",
        "print(list(filter(odd_num,my1)))\n",
        "#another method\n",
        "my1=[1,2,6,46,76,69,7,109]\n",
        "print(list(filter(lambda x:x%2!=0,my1))"
      ],
      "metadata": {
        "colab": {
          "base_uri": "https://localhost:8080/"
        },
        "id": "NWKH7rYGERay",
        "outputId": "019c863d-d0f8-4c7f-efb3-e58315f676d1"
      },
      "execution_count": 19,
      "outputs": [
        {
          "output_type": "stream",
          "name": "stdout",
          "text": [
            "[1, 69, 7, 109]\n",
            "[1, 69, 7, 109]\n"
          ]
        }
      ]
    },
    {
      "cell_type": "code",
      "source": [
        "#python object oriented programming\n",
        "#OOPS principles\n",
        "\n",
        "#class and object\n",
        "\n",
        "class C:\n",
        "  def addn(self,a,b):\n",
        "    return a+b\n",
        "  def subn(self,a,b):\n",
        "    return a-b\n",
        "\n",
        "O=C()\n",
        "print(\"addition of two numbers is\",O.addn(10,9))\n",
        "print(\"substraction of two nubmers is\",O.subn(9,6))\n"
      ],
      "metadata": {
        "colab": {
          "base_uri": "https://localhost:8080/"
        },
        "id": "oFVKSDVUFvjv",
        "outputId": "dfc5556f-6ad4-472f-9a5c-5efe543c5b0a"
      },
      "execution_count": 24,
      "outputs": [
        {
          "output_type": "stream",
          "name": "stdout",
          "text": [
            "addition of two numbers is 19\n",
            "substraction of two nubmers is 3\n"
          ]
        }
      ]
    },
    {
      "cell_type": "code",
      "source": [
        "#inheritance\n",
        "\n",
        "#simple\n",
        "\n",
        "class Animal:\n",
        "  def animal_sound(self):\n",
        "    return \"makes sound\"\n",
        "class Cat(Animal):\n",
        "  def cat_sound(self):\n",
        "    return self.animal_sound()+\" MEOW\"\n",
        "  def __str__(self): #here double blank is standard way of representing string for self format\n",
        "    return \"Cat\"\n",
        "\n",
        "co=Cat()\n",
        "print(co,co.cat_sound())\n"
      ],
      "metadata": {
        "colab": {
          "base_uri": "https://localhost:8080/"
        },
        "id": "VXEDE_QjSgqg",
        "outputId": "3de3e9b8-82f9-42b8-8f15-a9d3f54fe639"
      },
      "execution_count": 31,
      "outputs": [
        {
          "output_type": "stream",
          "name": "stdout",
          "text": [
            "Cat makes sound MEOW\n"
          ]
        }
      ]
    },
    {
      "cell_type": "code",
      "source": [
        "#hierarchy inheritance\n",
        "\n",
        "class Animal:\n",
        "  def animal_sound(self):\n",
        "    return \"makes sound\"\n",
        "class Cat(Animal):\n",
        "  def cat_sound(self):\n",
        "    return self.animal_sound()+\" MEOW\"\n",
        "  def __str__(self):\n",
        "    return \"Cat\"\n",
        "class Dog(Animal):\n",
        "  def dog_sound(self):\n",
        "    return self.animal_sound()+\" BOW\"\n",
        "  def __str__(self):\n",
        "    return \"Dog\"\n",
        "\n",
        "co=Cat()\n",
        "do=Dog()\n",
        "print(co,co.cat_sound())\n",
        "print(do,do.dog_sound())"
      ],
      "metadata": {
        "colab": {
          "base_uri": "https://localhost:8080/"
        },
        "id": "Q5qfzWTtZ91r",
        "outputId": "afb3d073-bab0-4dc0-b111-3a18d9bde944"
      },
      "execution_count": 33,
      "outputs": [
        {
          "output_type": "stream",
          "name": "stdout",
          "text": [
            "Cat makes sound MEOW\n",
            "Dog makes sound BOW\n"
          ]
        }
      ]
    },
    {
      "cell_type": "code",
      "source": [
        "#multilevel inheritance\n",
        "class Animal:\n",
        "  def animal_sound(self):\n",
        "    return \"makes sound\"\n",
        "class Cat(Animal):\n",
        "  def cat_sound(self):\n",
        "    return self.animal_sound()+\" MEOW\"\n",
        "class cat_colour(Cat):\n",
        "  def __str__(self):\n",
        "    return \"Cat\"\n",
        "  def colour(self):\n",
        "    return \"colour is black\"\n",
        "cc=cat_colour()\n",
        "print(cc,cc.cat_sound())\n",
        "print(cc,cc.colour())\n"
      ],
      "metadata": {
        "colab": {
          "base_uri": "https://localhost:8080/"
        },
        "id": "AIwvQSuzbE4a",
        "outputId": "6cc80c4e-3809-4a7b-e3af-316e4cfe33dd"
      },
      "execution_count": 36,
      "outputs": [
        {
          "output_type": "stream",
          "name": "stdout",
          "text": [
            "Cat makes sound MEOW\n",
            "Cat colour is black\n"
          ]
        }
      ]
    }
  ]
}