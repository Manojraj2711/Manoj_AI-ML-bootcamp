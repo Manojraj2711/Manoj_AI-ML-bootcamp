{
  "nbformat": 4,
  "nbformat_minor": 0,
  "metadata": {
    "colab": {
      "provenance": [],
      "authorship_tag": "ABX9TyPskmIvF1jP9yP2JkDJU2RR",
      "include_colab_link": true
    },
    "kernelspec": {
      "name": "python3",
      "display_name": "Python 3"
    },
    "language_info": {
      "name": "python"
    }
  },
  "cells": [
    {
      "cell_type": "markdown",
      "metadata": {
        "id": "view-in-github",
        "colab_type": "text"
      },
      "source": [
        "<a href=\"https://colab.research.google.com/github/Manojraj2711/Manoj_AI-ML-bootcamp/blob/main/Manoj_AI_ML_bootcamp_day4.ipynb\" target=\"_parent\"><img src=\"https://colab.research.google.com/assets/colab-badge.svg\" alt=\"Open In Colab\"/></a>"
      ]
    },
    {
      "cell_type": "code",
      "source": [
        "#Decision making\n",
        "\n",
        "#if statement\n",
        "var = 100\n",
        "if var>0:\n",
        "  print(\"True\")\n",
        "  print(var)\n",
        "\n",
        "#if else statement\n",
        "var=-10\n",
        "if var>0:\n",
        "  print(\"True\")\n",
        "else:\n",
        "  print(\"false\")\n",
        "\n",
        "#nested if statements\n",
        "age = int(input(\"Enter age\"))\n",
        "if age > 0:\n",
        "  if age > 0 and age <= 2:\n",
        "    print(\"free ticket\")\n",
        "  elif age>2 and age<=15:\n",
        "    print(\"half ticket\")\n",
        "  elif age>15 and age <=60:\n",
        "    print(\"full ticket\")\n",
        "  elif age > 60:\n",
        "    print(\"discounted ticket\")"
      ],
      "metadata": {
        "id": "iN7cCFS3sKvh",
        "colab": {
          "base_uri": "https://localhost:8080/"
        },
        "outputId": "7e3392dd-7e42-4a55-fa85-30ecb55adcde"
      },
      "execution_count": 10,
      "outputs": [
        {
          "output_type": "stream",
          "name": "stdout",
          "text": [
            "True\n",
            "100\n",
            "false\n",
            "Enter age16\n",
            "full ticket\n"
          ]
        }
      ]
    },
    {
      "cell_type": "code",
      "source": [
        "#python loops\n",
        "#for loops (have boundaries)\n",
        "\n",
        "Numbers = [1,2,3,4,5,67,8,9]\n",
        "for i in range (1,15):\n",
        "  print(i)\n",
        "\n",
        "sum = 0\n",
        "for val in Numbers:\n",
        "  sum = sum + val\n",
        "print(\"the sum is\",sum)\n",
        "\n",
        "#while loops (check condition untill it satisfy)\n",
        "\n",
        "count = 1\n",
        "while(count<15):\n",
        "  print(count)\n",
        "  count = count + 1"
      ],
      "metadata": {
        "colab": {
          "base_uri": "https://localhost:8080/"
        },
        "id": "GHrxDNRPv2hi",
        "outputId": "b7530547-f7fd-4a04-ae15-7e547e4b0d0f"
      },
      "execution_count": 1,
      "outputs": [
        {
          "output_type": "stream",
          "name": "stdout",
          "text": [
            "1\n",
            "2\n",
            "3\n",
            "4\n",
            "5\n",
            "6\n",
            "7\n",
            "8\n",
            "9\n",
            "10\n",
            "11\n",
            "12\n",
            "13\n",
            "14\n",
            "the sum is 99\n",
            "1\n",
            "2\n",
            "3\n",
            "4\n",
            "5\n",
            "6\n",
            "7\n",
            "8\n",
            "9\n",
            "10\n",
            "11\n",
            "12\n",
            "13\n",
            "14\n"
          ]
        }
      ]
    },
    {
      "cell_type": "code",
      "source": [
        "#nested loops\n",
        "\n",
        "#nested for\n",
        "\n",
        "X=[[12,4,6],[9,46,4],[0,3,9]]\n",
        "Y=[[5,3,1],\n",
        "   [5,8,5],\n",
        "   [7,1,0]]\n",
        "\n",
        "res = [[0,0,0],[0,0,0],[0,0,0]]\n",
        "\n",
        "for i in range(len(X)):\n",
        "  for j in range(len(X[0])):\n",
        "    res[i][j] = X[i][j] + Y[i][j]\n",
        "for r in res:\n",
        "  print(r)\n",
        "\n",
        "#nested while\n",
        "\n",
        "num=int(input(\"enter untill which table you need\"))\n",
        "i=1\n",
        "while(i<=num):\n",
        "  print(f\"table {i}\")\n",
        "  j=1\n",
        "  while(j<=10):\n",
        "    print(f\"{i}*{j}={i*j}\")\n",
        "    j=j+1\n",
        "  print(\"__________________\")\n",
        "  i=i+1"
      ],
      "metadata": {
        "id": "yREb2bIVshVt"
      },
      "execution_count": null,
      "outputs": []
    },
    {
      "cell_type": "code",
      "source": [
        "# Control statements\n",
        "\n",
        "#break it breaks upto that letter\n",
        "for q in \"manoj\":\n",
        "  if q==\"n\":\n",
        "    break\n",
        "  print(\"current letter\",q)\n",
        "print(\"______________\")\n",
        "#continue it will leave that letteer and continues\n",
        "for q in \"manoj\":\n",
        "  if q==\"n\":\n",
        "    continue\n",
        "  print(\"current letter\",q)\n",
        "print(\"______________\")\n",
        "#pass allows that letter also\n",
        "for q in \"manoj\":\n",
        "  if q==\"n\":\n",
        "    pass\n",
        "  print(\"current letter\",q)\n",
        "print(\"______________\")"
      ],
      "metadata": {
        "colab": {
          "base_uri": "https://localhost:8080/"
        },
        "id": "h8t-45mL8Sv3",
        "outputId": "2572bbd9-b03c-428b-bde2-6fa869c397d6"
      },
      "execution_count": 12,
      "outputs": [
        {
          "output_type": "stream",
          "name": "stdout",
          "text": [
            "current letter m\n",
            "current letter a\n",
            "______________\n",
            "current letter m\n",
            "current letter a\n",
            "current letter o\n",
            "current letter j\n",
            "______________\n",
            "current letter m\n",
            "current letter a\n",
            "current letter n\n",
            "current letter o\n",
            "current letter j\n",
            "______________\n"
          ]
        }
      ]
    },
    {
      "cell_type": "code",
      "source": [
        "#functions\n",
        "\n",
        "def greet(name):\n",
        "  '''this function greets a person'''\n",
        "  print(\"Hello \\t\"+name+\",\\t good morning\")\n",
        "\n",
        "greet(\"siva\")\n",
        "\n",
        "#default\n",
        "\n",
        "def A(a,b=1,c=5):\n",
        "  return a+b+c\n",
        "print(A(3))\n",
        "print(A(7,3,8))\n",
        "\n",
        "#keyword we need to mention all the values\n",
        "def A(a,b,c):\n",
        "  return a+b+c\n",
        "print(A(1,2,3))\n",
        "\n",
        "#positional  view in orderwise\n",
        "\n",
        "def A(a,b,c):\n",
        "  return a+b+c\n",
        "print(A(3,65,9))\n",
        "\n",
        "#arbitrary positional\n",
        "def add_num(*n):\n",
        "   # here * implies we can add multiple values\n",
        "   print(sum(n))\n",
        "add_num(1,2,3,45,6,35,)\n",
        "\n",
        "#arbitrary keyword\n",
        "def key_args(**kwargs):\n",
        "  # here we use ** becuase we are taking keys and values\n",
        "  return kwargs\n",
        "myd=key_args(Apples=30,Banana=13,orange=19)\n",
        "print(myd)\n",
        "print(myd['Apples'])\n",
        "\n",
        "#higher order functions means function inside a function\n",
        "def shout(text):\n",
        "  return text.upper()\n",
        "  # here we use function shout inside function def\n",
        "\n",
        "def whisper(text):\n",
        "  return text.lower()\n",
        "\n",
        "def explain(func):\n",
        "  greet=func(\"Hi My NamE IS MAnoJ RaJ\")\n",
        "  print(greet)\n",
        "\n",
        "explain(shout)\n",
        "explain(whisper)\n"
      ],
      "metadata": {
        "colab": {
          "base_uri": "https://localhost:8080/"
        },
        "id": "lTYkfJ8wvR-9",
        "outputId": "fd88e003-36db-4532-c69d-7e549607d21b"
      },
      "execution_count": 10,
      "outputs": [
        {
          "output_type": "stream",
          "name": "stdout",
          "text": [
            "Hello \tsiva,\t good morning\n",
            "9\n",
            "18\n",
            "6\n",
            "77\n",
            "92\n",
            "{'Apples': 30, 'Banana': 13, 'orange': 19}\n",
            "30\n",
            "HI MY NAME IS MANOJ RAJ\n",
            "hi my name is manoj raj\n"
          ]
        }
      ]
    }
  ]
}