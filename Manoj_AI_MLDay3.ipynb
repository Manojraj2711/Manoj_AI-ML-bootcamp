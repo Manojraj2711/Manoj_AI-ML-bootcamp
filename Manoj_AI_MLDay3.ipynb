{
  "nbformat": 4,
  "nbformat_minor": 0,
  "metadata": {
    "colab": {
      "provenance": [],
      "authorship_tag": "ABX9TyMdi8kdliJbMiVlfXcICDS/",
      "include_colab_link": true
    },
    "kernelspec": {
      "name": "python3",
      "display_name": "Python 3"
    },
    "language_info": {
      "name": "python"
    }
  },
  "cells": [
    {
      "cell_type": "markdown",
      "metadata": {
        "id": "view-in-github",
        "colab_type": "text"
      },
      "source": [
        "<a href=\"https://colab.research.google.com/github/Manojraj2711/Manoj_AI-ML-bootcamp/blob/main/Manoj_AI_MLDay3.ipynb\" target=\"_parent\"><img src=\"https://colab.research.google.com/assets/colab-badge.svg\" alt=\"Open In Colab\"/></a>"
      ]
    },
    {
      "cell_type": "code",
      "execution_count": 5,
      "metadata": {
        "colab": {
          "base_uri": "https://localhost:8080/"
        },
        "id": "uEgdAsGjYC5K",
        "outputId": "673363bc-9fcc-4b63-aa1f-35b86aa6c372"
      },
      "outputs": [
        {
          "output_type": "stream",
          "name": "stdout",
          "text": [
            "6\n",
            "1\n",
            "2\n",
            "9\n"
          ]
        }
      ],
      "source": [
        "#tuples uses ( )\n",
        "tup1=(1,2,3,4,9)\n",
        "tup2=(\"hai\",1,4,6,8)\n",
        "\n",
        "N_tup=(\"hello\",tup1,tup2)\n",
        "\n",
        "print(N_tup[-1][3])\n",
        "\n",
        "#tuple methods\n",
        "\n",
        "print(tup1.count(1))\n",
        "print(tup2.index(4))\n",
        "print(max(tup1))\n"
      ]
    },
    {
      "cell_type": "code",
      "source": [
        "#sets\n",
        "\n",
        "set1={1,2,3,4}\n",
        "set2={13,9,\"hai\"}\n",
        "\n",
        "l = [1,2,3,4,5]\n",
        "print(l)\n",
        "set3=set(l)\n",
        "print(set3)\n",
        "\n",
        "#set methods\n",
        "\n",
        "set1.add(6)\n",
        "print(set1)\n",
        "\n",
        "set1.update([69,75])\n",
        "print(set1)\n",
        "\n",
        "set1.discard(75)\n",
        "print(set1)\n",
        "\n",
        "#set operations\n",
        "a={1,2,3,8,9}\n",
        "b={835,35,63,68,9}\n",
        "\n",
        "#union\n",
        "print(a|b)\n",
        "print(a.union(b))\n",
        "print(b.union(a))\n",
        "\n",
        "#intersection\n",
        "print(a&b)\n",
        "print(a.intersection(b))\n",
        "print(b.intersection(a))\n",
        "\n",
        "#difference\n",
        "print(a-b)\n",
        "print(a.difference(b))\n",
        "print(b-a)\n",
        "print(b.difference(a))\n"
      ],
      "metadata": {
        "colab": {
          "base_uri": "https://localhost:8080/"
        },
        "id": "TYwJNjKXcviu",
        "outputId": "b4e0dc22-081a-471a-fc44-df2d54c660fa"
      },
      "execution_count": 13,
      "outputs": [
        {
          "output_type": "stream",
          "name": "stdout",
          "text": [
            "[1, 2, 3, 4, 5]\n",
            "{1, 2, 3, 4, 5}\n",
            "{1, 2, 3, 4, 6}\n",
            "{1, 2, 3, 4, 69, 6, 75}\n",
            "{1, 2, 3, 4, 69, 6}\n",
            "{1, 2, 3, 835, 35, 68, 8, 9, 63}\n",
            "{1, 2, 3, 835, 35, 68, 8, 9, 63}\n",
            "{1, 2, 835, 35, 68, 3, 8, 9, 63}\n",
            "{9}\n",
            "{9}\n",
            "{9}\n",
            "{8, 1, 2, 3}\n",
            "{8, 1, 2, 3}\n",
            "{35, 835, 68, 63}\n",
            "{35, 835, 68, 63}\n"
          ]
        }
      ]
    },
    {
      "cell_type": "code",
      "source": [
        "#dictionaries\n",
        "#Have keys and Values\n",
        "\n",
        "my_dict = {'name':'Manoj',100:'centuries'}\n",
        "print(my_dict.keys())\n",
        "print(my_dict.values())\n",
        "print(my_dict['name'])\n",
        "\n"
      ],
      "metadata": {
        "colab": {
          "base_uri": "https://localhost:8080/"
        },
        "id": "VfS1eHNXg1Q-",
        "outputId": "35d10848-a46b-4051-888d-4d4272248219"
      },
      "execution_count": 15,
      "outputs": [
        {
          "output_type": "stream",
          "name": "stdout",
          "text": [
            "dict_keys(['name', 100])\n",
            "dict_values(['Manoj', 'centuries'])\n",
            "Manoj\n"
          ]
        }
      ]
    }
  ]
}